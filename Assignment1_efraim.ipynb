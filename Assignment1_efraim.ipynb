{
  "cells": [
    {
      "cell_type": "markdown",
      "metadata": {
        "id": "vvGd4YgtppjR"
      },
      "source": [
        "## Submission instructions\n",
        "\n",
        "All code that you write should be in this notebook. Please include your names and student numbers. You have to submit two files:\n",
        "\n",
        "* This notebook with your code added. Make sure to add enough documentation.\n",
        "* A short report, around 2 pages including any figures and/or tables (it is likely that you won't need the full 2 pages). Use [this template](https://www.overleaf.com/read/mvskntycrckw).\n",
        "\n",
        "For questions, make use of the \"Lab\" session (see schedule).\n",
        "Questions can also be posted to the MS teams channel called \"Lab\".\n",
        "\n",
        "**Note:** You are free to make use of Python libraries (e.g., numpy, sklearn, etc.) except any *fairness* libraries."
      ]
    },
    {
      "cell_type": "markdown",
      "metadata": {},
      "source": []
    },
    {
      "cell_type": "markdown",
      "metadata": {
        "id": "Bii8KkkLUg5i"
      },
      "source": [
        "#### Name and student numbers\n",
        "...\n",
        "Timofey Senchenko (), Efraim Dahl (1695568)\n"
      ]
    },
    {
      "cell_type": "markdown",
      "metadata": {
        "id": "-ni3V-7iqA6X"
      },
      "source": [
        "## Dataset\n",
        "\n",
        "In this assignment we are going to use the **COMPAS** dataset.\n",
        "\n",
        "If you haven't done so already, take a look at this article: https://www.propublica.org/article/machine-bias-risk-assessments-in-criminal-sentencing.\n",
        "For background on the dataset, see https://www.propublica.org/article/how-we-analyzed-the-compas-recidivism-algorithm.\n",
        "\n",
        "**Reading in the COMPAS dataset**\n",
        "\n",
        "The dataset can be downloaded here: https://github.com/propublica/compas-analysis/blob/master/compas-scores-two-years.csv\n",
        "\n",
        "For this assignment, we focus on the protected attribute *race*.\n",
        "\n",
        "The label (the variable we want to be able to predict) represents recidivism, which is defined as a new arrest within 2 years."
      ]
    },
    {
      "cell_type": "code",
      "execution_count": 77,
      "metadata": {
        "colab": {
          "base_uri": "https://localhost:8080/"
        },
        "id": "ajLXEdx6plgP",
        "outputId": "a65bf36a-1bc6-488f-accc-7bd9b24ca411"
      },
      "outputs": [
        {
          "name": "stderr",
          "output_type": "stream",
          "text": [
            "'wget' is not recognized as an internal or external command,\n",
            "operable program or batch file.\n"
          ]
        }
      ],
      "source": [
        "!wget -c https://raw.githubusercontent.com/propublica/compas-analysis/master/compas-scores-two-years.csv"
      ]
    },
    {
      "cell_type": "code",
      "execution_count": 78,
      "metadata": {
        "id": "AaT9DQwwpqkx"
      },
      "outputs": [],
      "source": [
        "import numpy as np\n",
        "import pandas as pd\n",
        "from sklearn.metrics import accuracy_score, precision_recall_fscore_support\n",
        "from sklearn.model_selection import train_test_split\n",
        "from sklearn.linear_model import LogisticRegression\n",
        "from sklearn.preprocessing import StandardScaler\n",
        "from sklearn.preprocessing import OneHotEncoder\n",
        "import seaborn as sns\n",
        "import random\n",
        "\n",
        "def set_seed(seed):\n",
        "    #set all random seeds\n",
        "    np.random.seed(seed)\n",
        "    random.seed(seed)\n",
        "    return None\n",
        "\n",
        "SEED = 42\n",
        "\n",
        "set_seed(SEED)\n",
        "compas_data = pd.read_csv('compas-scores-two-years.csv')"
      ]
    },
    {
      "cell_type": "markdown",
      "metadata": {
        "id": "NsidUr4Bz-gZ"
      },
      "source": [
        "We apply several data preprocessing steps, including only retaining Caucasians and African Americans."
      ]
    },
    {
      "cell_type": "code",
      "execution_count": 79,
      "metadata": {
        "id": "vs2eRxdgrHrt"
      },
      "outputs": [],
      "source": [
        "compas_data = compas_data[(compas_data.days_b_screening_arrest <= 30)\n",
        "            & (compas_data.days_b_screening_arrest >= -30)\n",
        "            & (compas_data.is_recid != -1)\n",
        "            & (compas_data.c_charge_degree != 'O')\n",
        "            & (compas_data.score_text != 'N/A')\n",
        "            & ((compas_data.race == 'Caucasian') | (compas_data.race == 'African-American'))]"
      ]
    },
    {
      "cell_type": "markdown",
      "metadata": {
        "id": "p5IwB6Rz2zIS"
      },
      "source": [
        "Take a look at the data:"
      ]
    },
    {
      "cell_type": "code",
      "execution_count": 80,
      "metadata": {
        "colab": {
          "base_uri": "https://localhost:8080/"
        },
        "id": "WMM-MYdstObf",
        "outputId": "0bf826a7-bf28-433b-ea6a-b21c5f3f1fe6"
      },
      "outputs": [
        {
          "name": "stdout",
          "output_type": "stream",
          "text": [
            "    id              name      first    last compas_screening_date     sex  \\\n",
            "1    3       kevon dixon      kevon   dixon            2013-01-27    Male   \n",
            "2    4          ed philo         ed   philo            2013-04-14    Male   \n",
            "6    8     edward riddle     edward  riddle            2014-02-19    Male   \n",
            "8   10  elizabeth thieme  elizabeth  thieme            2014-03-16  Female   \n",
            "10  14    benjamin franc   benjamin   franc            2013-11-26    Male   \n",
            "\n",
            "           dob  age       age_cat              race  ...  v_decile_score  \\\n",
            "1   1982-01-22   34       25 - 45  African-American  ...               1   \n",
            "2   1991-05-14   24  Less than 25  African-American  ...               3   \n",
            "6   1974-07-23   41       25 - 45         Caucasian  ...               2   \n",
            "8   1976-06-03   39       25 - 45         Caucasian  ...               1   \n",
            "10  1988-06-01   27       25 - 45         Caucasian  ...               4   \n",
            "\n",
            "    v_score_text  v_screening_date  in_custody  out_custody  priors_count.1  \\\n",
            "1            Low        2013-01-27  2013-01-26   2013-02-05               0   \n",
            "2            Low        2013-04-14  2013-06-16   2013-06-16               4   \n",
            "6            Low        2014-02-19  2014-03-31   2014-04-18              14   \n",
            "8            Low        2014-03-16  2014-03-15   2014-03-18               0   \n",
            "10           Low        2013-11-26  2013-11-25   2013-11-26               0   \n",
            "\n",
            "   start  end event two_year_recid  \n",
            "1      9  159     1              1  \n",
            "2      0   63     0              1  \n",
            "6      5   40     1              1  \n",
            "8      2  747     0              0  \n",
            "10     0  857     0              0  \n",
            "\n",
            "[5 rows x 53 columns]\n"
          ]
        }
      ],
      "source": [
        "print(compas_data.head())"
      ]
    },
    {
      "cell_type": "markdown",
      "metadata": {
        "id": "5vKapT6FtmvJ"
      },
      "source": [
        "Now take a look at the distribution of the protected attribute `race` and the distribution of our outcome variable `two_year_recid`.\n",
        "\n",
        "**Note:** in the context of fair machine learning, the favorable label here is no recidivism, i.e., ```two_year_recid = 0```"
      ]
    },
    {
      "cell_type": "code",
      "execution_count": 81,
      "metadata": {
        "colab": {
          "base_uri": "https://localhost:8080/"
        },
        "id": "Fh2oM2yptnjR",
        "outputId": "f89ff857-41d9-4a8c-d236-6fd4af65f177"
      },
      "outputs": [
        {
          "name": "stdout",
          "output_type": "stream",
          "text": [
            "Number of instances per race category:\n",
            "race              two_year_recid\n",
            "African-American  1                 1661\n",
            "                  0                 1514\n",
            "Caucasian         0                 1281\n",
            "                  1                  822\n",
            "Name: count, dtype: int64\n"
          ]
        }
      ],
      "source": [
        "print('Number of instances per race category:')\n",
        "print(compas_data[['race', 'two_year_recid']].value_counts())"
      ]
    },
    {
      "cell_type": "markdown",
      "metadata": {
        "id": "636Yopp6wNtY"
      },
      "source": [
        "## Data analysis"
      ]
    },
    {
      "cell_type": "markdown",
      "metadata": {
        "id": "hS3g2NT98dY_"
      },
      "source": [
        "### **1. Exploration**\n",
        "\n",
        "Perform an exploratory analysis of your data and describe the results in your report.\n",
        "Include at least the following:\n",
        "\n",
        "1. The size of your data;\n",
        "2. The size of the protected attribute classes;\n",
        "3. The base rates (the probability of a favorable outcome for the two protected attribute classes);\n",
        "4. The base rates for the combination of both race and sex categories. What do you see?"
      ]
    },
    {
      "cell_type": "code",
      "execution_count": 82,
      "metadata": {
        "id": "k6FESAE1VmPu"
      },
      "outputs": [
        {
          "name": "stdout",
          "output_type": "stream",
          "text": [
            "Data Size: 5278\n",
            "Size of class  African-American : 3175\n",
            "Base rate African-American: 0.4768503937007874\n",
            "Base rate African-American (Male): 0.44478293983244477\n",
            "Base rate African-American (Female): 0.6302367941712204\n",
            "Size of class  Caucasian : 2103\n",
            "Base rate Caucasian: 0.609129814550642\n",
            "Base rate Caucasian (Male): 0.5977791486736582\n",
            "Base rate Caucasian (Female): 0.6473029045643154\n"
          ]
        }
      ],
      "source": [
        "data_size = len(compas_data)\n",
        "\n",
        "print(\"Data Size:\", data_size)\n",
        "\n",
        "vals = dict(compas_data[['race']].value_counts())\n",
        "svals = dict(compas_data[['sex']].value_counts())\n",
        "\n",
        "labels = [\"Race\",\"Sex\",\"Recidivism\"]\n",
        "rows=[]\n",
        "\n",
        "bb_rate = compas_data.loc[(compas_data['two_year_recid']==0)].shape[0]\n",
        "bb_frac = bb_rate/data_size\n",
        "rows.append(['*All Races','*All Sexes',bb_frac])\n",
        "\n",
        "for sval,num in svals.items():\n",
        "    recid2 = compas_data.loc[(compas_data['sex']==sval[0]) &(compas_data['two_year_recid']==0)].shape[0]\n",
        "    snum2 = compas_data.loc[(compas_data['sex']==sval[0])].shape[0]\n",
        "    frac = str(recid2/snum2)\n",
        "    rows.append(['*All Races',sval[0],frac])\n",
        "        \n",
        "    \n",
        "for val,num in vals.items():\n",
        "    #print(val,num)\n",
        "    recid = compas_data.loc[(compas_data['race']==val[0]) & (compas_data['two_year_recid']==0)].shape[0]\n",
        "    #rint(recid)\n",
        "    frac = str(recid/num)\n",
        "    print(\"Size of class \", val[0],\":\",num)\n",
        "    print(f'Base rate {val[0]}: {frac}')\n",
        "    rows.append([val[0],\"*All Sexes\",frac])\n",
        "    for sval,_ in svals.items():\n",
        "        #Combined Sex and Race\n",
        "        recid = compas_data.loc[(compas_data['race']==val[0]) & (compas_data['sex']==sval[0]) &(compas_data['two_year_recid']==0)].shape[0]\n",
        "        snum = compas_data.loc[(compas_data['race']==val[0]) & (compas_data['sex']==sval[0])].shape[0]\n",
        "        frac = str(recid/snum)\n",
        "        print(f'Base rate {val[0]} ({sval[0]}): {frac}')\n",
        "        rows.append([val[0],sval[0],frac])"
      ]
    },
    {
      "cell_type": "code",
      "execution_count": 83,
      "metadata": {},
      "outputs": [
        {
          "name": "stdout",
          "output_type": "stream",
          "text": [
            "Sex               *All Sexes    Female      Male\n",
            "Race                                            \n",
            "*All Races          0.529557  0.638215  0.503179\n",
            "African-American    0.476850  0.630237  0.444783\n",
            "Caucasian           0.609130  0.647303  0.597779\n",
            "Sex               *All Sexes    Female      Male\n",
            "Race                                            \n",
            "*All Races          0.529557  0.638215  0.503179\n",
            "African-American    0.476850  0.630237  0.444783\n",
            "Caucasian           0.609130  0.647303  0.597779\n"
          ]
        },
        {
          "data": {
            "image/png": "[encoded data removed]",
            "text/plain": [
              "<Figure size 640x480 with 2 Axes>"
            ]
          },
          "metadata": {},
          "output_type": "display_data"
        }
      ],
      "source": [
        "import matplotlib.pyplot as plt\n",
        "df = pd.DataFrame(rows,columns=labels)\n",
        "df['Recidivism'] = pd.to_numeric(df['Recidivism'])\n",
        "\n",
        "df=df.pivot(index=\"Race\",columns=\"Sex\",values=\"Recidivism\")\n",
        "print(df)\n",
        "# replace the Month with year \n",
        "df = df.rename(columns={\"Race\":\"Sex\"})\n",
        "# drop first column\n",
        "#df = df.iloc[0:].reset_index(drop=True)\n",
        "\n",
        "print(df)\n",
        "sns.heatmap(df, annot=True, cmap=\"YlGnBu\", fmt='.2f')\n",
        "\n",
        "plt.title('Heatmap of Positive Outcomes by Sex and Race')\n",
        "plt.show()"
      ]
    },
    {
      "cell_type": "markdown",
      "metadata": {
        "id": "W-mxqnnUcaGc"
      },
      "source": [
        "### **2. Performance measures**\n",
        "\n",
        "You will have to measure the performance and fairness of different classifiers in question 5. The performance will be calculated with the precision, recall, F1 and accuracy.\n",
        "Additionally, you will have to calculate the statistical/demographic parity, the true positive rate (recall) and false positive rate per race group.\n",
        "\n",
        "Make sure that you are able to calculate these metrics in the cell below."
      ]
    },
    {
      "cell_type": "code",
      "execution_count": 84,
      "metadata": {
        "id": "IAO99gf2caZT"
      },
      "outputs": [],
      "source": [
        "# Your code for the performance measures\n",
        "# Your code for the performance measures\n",
        "def metrics(df, groups='race', disparity_threshold=0.8,prediction_column='prediction'):\n",
        "    '''\n",
        "    df: pandas DataFrame, must contain columns two_year_recid, prediction and column specified in groups (default \"race\")\n",
        "    returns: dictionary with performance metrics\n",
        "    '''\n",
        "    performance = {}\n",
        "    performance['accuracy'] = accuracy_score(df['two_year_recid'], df[prediction_column])\n",
        "    performance['precision'], performance['recall'], performance['f1'], _ = precision_recall_fscore_support(df['two_year_recid'], df[prediction_column], average='binary')\n",
        "    aa_group = df[df[groups] == 'African-American']\n",
        "    cc_group = df[df[groups] == 'Caucasian']\n",
        "    P_pos_aa = aa_group[aa_group[prediction_column] == 0].shape[0] / aa_group.shape[0]\n",
        "    P_pos_cc = cc_group[cc_group[prediction_column] == 0].shape[0] / cc_group.shape[0]\n",
        "    performance['disparate_impact'] = P_pos_aa/P_pos_cc\n",
        "    performance['demographic_parity'] = P_pos_aa/P_pos_cc < disparity_threshold\n",
        "\n",
        "    TP_rate_aa = aa_group[(aa_group[prediction_column] == 0) & (aa_group['two_year_recid'] == 0)].shape[0] / aa_group[aa_group['two_year_recid'] == 0].shape[0]\n",
        "    TP_rate_cc = cc_group[(cc_group[prediction_column] == 0) & (cc_group['two_year_recid'] == 0)].shape[0] / cc_group[cc_group['two_year_recid'] == 0].shape[0]\n",
        "\n",
        "    performance['African-American_true_positive_rate'] = TP_rate_aa\n",
        "    performance['Caucasian_true_positive_rate'] = TP_rate_cc\n",
        "    performance['equal_opportunity'] = TP_rate_aa/TP_rate_cc < disparity_threshold\n",
        "\n",
        "    FP_rate_aa = aa_group[(aa_group[prediction_column] == 0) & (aa_group['two_year_recid'] == 1)].shape[0] / aa_group[aa_group['two_year_recid'] == 0].shape[0]\n",
        "    FP_rate_cc = cc_group[(cc_group[prediction_column] == 0) & (cc_group['two_year_recid'] == 1)].shape[0] / cc_group[cc_group['two_year_recid'] == 0].shape[0]\n",
        "\n",
        "    performance['African-American_false_positive_rate'] = FP_rate_aa\n",
        "    performance['Caucasian_false_positive_rate'] = FP_rate_cc\n",
        "    performance['predictive_parity'] = FP_rate_aa/FP_rate_cc < disparity_threshold\n",
        "\n",
        "    # round to 4 decimal places\n",
        "    for key in performance.keys():\n",
        "        performance[key] = round(performance[key], 4)\n",
        "\n",
        "    return performance  "
      ]
    },
    {
      "cell_type": "code",
      "execution_count": 85,
      "metadata": {},
      "outputs": [
        {
          "data": {
            "text/plain": [
              "{'accuracy': 0.5064,\n",
              " 'precision': 0.4768,\n",
              " 'recall': 0.5046,\n",
              " 'f1': 0.4903,\n",
              " 'disparate_impact': 0.9967,\n",
              " 'demographic_parity': 0,\n",
              " 'African-American_true_positive_rate': 0.5099,\n",
              " 'Caucasian_true_positive_rate': 0.5059,\n",
              " 'equal_opportunity': 0,\n",
              " 'African-American_false_positive_rate': 0.5416,\n",
              " 'Caucasian_false_positive_rate': 0.3201,\n",
              " 'predictive_parity': 0}"
            ]
          },
          "execution_count": 85,
          "metadata": {},
          "output_type": "execute_result"
        }
      ],
      "source": [
        "# example usage\n",
        "compas_data['prediction'] = np.random.randint(0, 2, compas_data.shape[0])\n",
        "\n",
        "metrics(compas_data)"
      ]
    },
    {
      "cell_type": "markdown",
      "metadata": {
        "id": "n51Bdpy59vhy"
      },
      "source": [
        "### **3. Prepare the data**\n",
        "For the classifiers in question 5, the input of the model can only contain numerical values, it is therefore important to convert the strings in the columns (features) of interest of the `compas_data` to floats or integers.\n",
        "\n",
        "The columns of interest are features that you think will be informative or interesting in predicting the outcome variable.\n",
        "\n",
        "Use the cell below to explore which of the compas variables you need to convert to be able to use them for the classifiers. Also make sure that you understand the relationship between categorical and numerical values.\n",
        "\n",
        "Then generate a new dataframe with your selected features in the right encoding (also make sure to include `two_year_recid`). You can implement this yourself, or use the `LabelEncoder` from `sklearn`.\n",
        "\n",
        "**Note:** you do not need to convert all columns/features, only the ones you are interested in. Please include in your **report** a short motivation (one-two sentence) per feature why you think this is informative or interesting to take into account."
      ]
    },
    {
      "cell_type": "code",
      "execution_count": 86,
      "metadata": {
        "id": "2G0-QxbH95rX"
      },
      "outputs": [
        {
          "name": "stdout",
          "output_type": "stream",
          "text": [
            "initial dataset dat atypes id                           int64\n",
            "name                        object\n",
            "first                       object\n",
            "last                        object\n",
            "compas_screening_date       object\n",
            "sex                         object\n",
            "dob                         object\n",
            "age                          int64\n",
            "age_cat                     object\n",
            "race                        object\n",
            "juv_fel_count                int64\n",
            "decile_score                 int64\n",
            "juv_misd_count               int64\n",
            "juv_other_count              int64\n",
            "priors_count                 int64\n",
            "days_b_screening_arrest    float64\n",
            "c_jail_in                   object\n",
            "c_jail_out                  object\n",
            "c_case_number               object\n",
            "c_offense_date              object\n",
            "c_arrest_date               object\n",
            "c_days_from_compas         float64\n",
            "c_charge_degree             object\n",
            "c_charge_desc               object\n",
            "is_recid                     int64\n",
            "r_case_number               object\n",
            "r_charge_degree             object\n",
            "r_days_from_arrest         float64\n",
            "r_offense_date              object\n",
            "r_charge_desc               object\n",
            "r_jail_in                   object\n",
            "r_jail_out                  object\n",
            "violent_recid              float64\n",
            "is_violent_recid             int64\n",
            "vr_case_number              object\n",
            "vr_charge_degree            object\n",
            "vr_offense_date             object\n",
            "vr_charge_desc              object\n",
            "type_of_assessment          object\n",
            "decile_score.1               int64\n",
            "score_text                  object\n",
            "screening_date              object\n",
            "v_type_of_assessment        object\n",
            "v_decile_score               int64\n",
            "v_score_text                object\n",
            "v_screening_date            object\n",
            "in_custody                  object\n",
            "out_custody                 object\n",
            "priors_count.1               int64\n",
            "start                        int64\n",
            "end                          int64\n",
            "event                        int64\n",
            "two_year_recid               int64\n",
            "prediction                   int32\n",
            "dtype: object\n",
            "list of non numerical features: Index(['name', 'first', 'last', 'compas_screening_date', 'sex', 'dob',\n",
            "       'age_cat', 'race', 'c_jail_in', 'c_jail_out', 'c_case_number',\n",
            "       'c_offense_date', 'c_arrest_date', 'c_charge_degree', 'c_charge_desc',\n",
            "       'r_case_number', 'r_charge_degree', 'r_offense_date', 'r_charge_desc',\n",
            "       'r_jail_in', 'r_jail_out', 'vr_case_number', 'vr_charge_degree',\n",
            "       'vr_offense_date', 'vr_charge_desc', 'type_of_assessment', 'score_text',\n",
            "       'screening_date', 'v_type_of_assessment', 'v_score_text',\n",
            "       'v_screening_date', 'in_custody', 'out_custody'],\n",
            "      dtype='object')\n",
            "list of categorical features: ['vr_case_number', 'v_type_of_assessment', 'c_charge_desc', 'r_charge_desc', 'score_text', 'age_cat', 'last', 'race', 'r_charge_degree', 'type_of_assessment', 'sex', 'v_score_text', 'vr_charge_desc', 'name', 'vr_charge_degree', 'first', 'c_charge_degree']\n"
          ]
        }
      ],
      "source": [
        "# Your code to prepare the data\n",
        "# print data type of each column\n",
        "print('initial dataset dat atypes', compas_data.dtypes)\n",
        "\n",
        "obj_features = compas_data.select_dtypes(include='object').columns\n",
        "print('list of non numerical features:', obj_features)\n",
        "\n",
        "date_time_features = ['compas_screening_date', 'dob', 'c_jail_in', 'c_jail_out',\n",
        "       'c_offense_date', 'c_arrest_date', 'r_offense_date',\n",
        "       'r_jail_in', 'r_jail_out', 'vr_offense_date', 'screening_date', 'v_screening_date', 'in_custody', 'out_custody']\n",
        "non_train_features = ['id', 'c_case_number', 'r_case_number']\n",
        "\n",
        "categorical_features = list(set(obj_features) - set(date_time_features) - set(non_train_features))\n",
        "categorical_features\n",
        "print('list of categorical features:', categorical_features)"
      ]
    },
    {
      "cell_type": "code",
      "execution_count": 87,
      "metadata": {},
      "outputs": [
        {
          "data": {
            "text/plain": [
              "compas_screening_date       0\n",
              "dob                         0\n",
              "c_jail_in                   0\n",
              "c_jail_out                  0\n",
              "c_offense_date            689\n",
              "c_arrest_date            4589\n",
              "r_offense_date           2631\n",
              "r_jail_in                3497\n",
              "r_jail_out               3497\n",
              "vr_offense_date          4666\n",
              "screening_date              0\n",
              "v_screening_date            0\n",
              "in_custody                  0\n",
              "out_custody                 0\n",
              "dtype: int64"
            ]
          },
          "execution_count": 87,
          "metadata": {},
          "output_type": "execute_result"
        }
      ],
      "source": [
        "compas_data[date_time_features].isna().sum()"
      ]
    },
    {
      "cell_type": "code",
      "execution_count": 88,
      "metadata": {},
      "outputs": [],
      "source": [
        "def dt_to_seconds(series):\n",
        "    series = pd.to_datetime(series)\n",
        "    return (series - pd.Timestamp(\"1970-01-01\")) // pd.Timedelta('1s')\n",
        "\n",
        "class FeaturePreprocessor:\n",
        "    def __init__(self, categorical_features, date_time_features, non_train_features, min_freq=0.01):\n",
        "        self.categorical_features = categorical_features\n",
        "        self.date_time_features = date_time_features\n",
        "        self.non_train_features = non_train_features\n",
        "        self.scaler = StandardScaler()\n",
        "        self.encoder = OneHotEncoder(sparse_output=False, min_frequency=min_freq)\n",
        "\n",
        "    def fit_transform(self, X, full_cetagorical_df):\n",
        "        X = X.copy()\n",
        "        X = X.drop(columns=self.non_train_features)\n",
        "        self.numerical_features = list(set(X.columns) - set(self.categorical_features))\n",
        "        for ftr in self.date_time_features:\n",
        "            X[ftr] = dt_to_seconds(X[ftr])\n",
        "            if X[ftr].isna().sum() > 0:\n",
        "                new_ftr = ftr + '_missing'\n",
        "                X[new_ftr] = X[ftr].isna().astype(int)\n",
        "                X[ftr] = X[ftr].fillna(-1)\n",
        "        \n",
        "        X[self.numerical_features] = self.scaler.fit_transform(X[self.numerical_features])\n",
        "        self.encoder.fit(full_cetagorical_df)\n",
        "        ohe_feature_names = self.encoder.get_feature_names_out()\n",
        "        X[ohe_feature_names] = self.encoder.transform(X[self.categorical_features])\n",
        "        X = X.drop(columns=self.categorical_features)\n",
        "        for col in ['r_days_from_arrest', 'violent_recid']:\n",
        "            if col in X.columns:\n",
        "                X[col] = X[col].fillna(0)\n",
        "        return X\n",
        "\n",
        "\n",
        "    def transform(self, X):\n",
        "        X = X.copy()\n",
        "        X = X.drop(columns=self.non_train_features)\n",
        "        for ftr in self.date_time_features:\n",
        "            X[ftr] = dt_to_seconds(X[ftr])\n",
        "            if X[ftr].isna().sum() > 0:\n",
        "                new_ftr = ftr + '_missing'\n",
        "                X[new_ftr] = X[ftr].isna().astype(int)\n",
        "                X[ftr] = X[ftr].fillna(-1)\n",
        "        \n",
        "        X[self.numerical_features] = self.scaler.transform(X[self.numerical_features])\n",
        "        ohe_feature_names = self.encoder.get_feature_names_out()\n",
        "        X[ohe_feature_names] = self.encoder.transform(X[self.categorical_features])\n",
        "        X = X.drop(columns=self.categorical_features)\n",
        "        for col in ['r_days_from_arrest', 'violent_recid']:\n",
        "            if col in X.columns:\n",
        "                X[col] = X[col].fillna(0)\n",
        "        return X"
      ]
    },
    {
      "cell_type": "markdown",
      "metadata": {
        "id": "hkgRPopIxNVJ"
      },
      "source": [
        "### **4. Train and test split**\n",
        "\n",
        "Divide the dataset into a train (80%) and test split (20%), either by implementing it yourself, or by using an existing library.\n",
        "\n",
        "**Note:** Usually when carrying out machine learning experiments,\n",
        "we also need a dev set for developing and selecting our models (incl. tuning of hyper-parameters).\n",
        "However, in this assignment, the goal is not to optimize\n",
        "the performance of models so we'll only use a train and test split.\n",
        "\n",
        "\n"
      ]
    },
    {
      "cell_type": "code",
      "execution_count": 89,
      "metadata": {
        "id": "G0wUGEpiV7mH"
      },
      "outputs": [
        {
          "name": "stderr",
          "output_type": "stream",
          "text": [
            "d:\\Programms\\Anaconda\\envs\\MEGDNN\\Lib\\site-packages\\sklearn\\utils\\extmath.py:1051: RuntimeWarning: invalid value encountered in divide\n",
            "  updated_mean = (last_sum + new_sum) / updated_sample_count\n",
            "d:\\Programms\\Anaconda\\envs\\MEGDNN\\Lib\\site-packages\\sklearn\\utils\\extmath.py:1056: RuntimeWarning: invalid value encountered in divide\n",
            "  T = new_sum / new_sample_count\n",
            "d:\\Programms\\Anaconda\\envs\\MEGDNN\\Lib\\site-packages\\sklearn\\utils\\extmath.py:1076: RuntimeWarning: invalid value encountered in divide\n",
            "  new_unnormalized_variance -= correction**2 / new_sample_count\n",
            "C:\\Users\\Efraim\\AppData\\Local\\Temp\\ipykernel_2688\\273650697.py:27: PerformanceWarning: DataFrame is highly fragmented.  This is usually the result of calling `frame.insert` many times, which has poor performance.  Consider joining all columns at once using pd.concat(axis=1) instead. To get a de-fragmented frame, use `newframe = frame.copy()`\n",
            "  X[ohe_feature_names] = self.encoder.transform(X[self.categorical_features])\n",
            "C:\\Users\\Efraim\\AppData\\Local\\Temp\\ipykernel_2688\\273650697.py:27: PerformanceWarning: DataFrame is highly fragmented.  This is usually the result of calling `frame.insert` many times, which has poor performance.  Consider joining all columns at once using pd.concat(axis=1) instead. To get a de-fragmented frame, use `newframe = frame.copy()`\n",
            "  X[ohe_feature_names] = self.encoder.transform(X[self.categorical_features])\n",
            "C:\\Users\\Efraim\\AppData\\Local\\Temp\\ipykernel_2688\\273650697.py:27: PerformanceWarning: DataFrame is highly fragmented.  This is usually the result of calling `frame.insert` many times, which has poor performance.  Consider joining all columns at once using pd.concat(axis=1) instead. To get a de-fragmented frame, use `newframe = frame.copy()`\n",
            "  X[ohe_feature_names] = self.encoder.transform(X[self.categorical_features])\n",
            "C:\\Users\\Efraim\\AppData\\Local\\Temp\\ipykernel_2688\\273650697.py:27: PerformanceWarning: DataFrame is highly fragmented.  This is usually the result of calling `frame.insert` many times, which has poor performance.  Consider joining all columns at once using pd.concat(axis=1) instead. To get a de-fragmented frame, use `newframe = frame.copy()`\n",
            "  X[ohe_feature_names] = self.encoder.transform(X[self.categorical_features])\n",
            "C:\\Users\\Efraim\\AppData\\Local\\Temp\\ipykernel_2688\\273650697.py:27: PerformanceWarning: DataFrame is highly fragmented.  This is usually the result of calling `frame.insert` many times, which has poor performance.  Consider joining all columns at once using pd.concat(axis=1) instead. To get a de-fragmented frame, use `newframe = frame.copy()`\n",
            "  X[ohe_feature_names] = self.encoder.transform(X[self.categorical_features])\n",
            "C:\\Users\\Efraim\\AppData\\Local\\Temp\\ipykernel_2688\\273650697.py:27: PerformanceWarning: DataFrame is highly fragmented.  This is usually the result of calling `frame.insert` many times, which has poor performance.  Consider joining all columns at once using pd.concat(axis=1) instead. To get a de-fragmented frame, use `newframe = frame.copy()`\n",
            "  X[ohe_feature_names] = self.encoder.transform(X[self.categorical_features])\n",
            "C:\\Users\\Efraim\\AppData\\Local\\Temp\\ipykernel_2688\\273650697.py:27: PerformanceWarning: DataFrame is highly fragmented.  This is usually the result of calling `frame.insert` many times, which has poor performance.  Consider joining all columns at once using pd.concat(axis=1) instead. To get a de-fragmented frame, use `newframe = frame.copy()`\n",
            "  X[ohe_feature_names] = self.encoder.transform(X[self.categorical_features])\n",
            "C:\\Users\\Efraim\\AppData\\Local\\Temp\\ipykernel_2688\\273650697.py:27: PerformanceWarning: DataFrame is highly fragmented.  This is usually the result of calling `frame.insert` many times, which has poor performance.  Consider joining all columns at once using pd.concat(axis=1) instead. To get a de-fragmented frame, use `newframe = frame.copy()`\n",
            "  X[ohe_feature_names] = self.encoder.transform(X[self.categorical_features])\n",
            "C:\\Users\\Efraim\\AppData\\Local\\Temp\\ipykernel_2688\\273650697.py:27: PerformanceWarning: DataFrame is highly fragmented.  This is usually the result of calling `frame.insert` many times, which has poor performance.  Consider joining all columns at once using pd.concat(axis=1) instead. To get a de-fragmented frame, use `newframe = frame.copy()`\n",
            "  X[ohe_feature_names] = self.encoder.transform(X[self.categorical_features])\n",
            "C:\\Users\\Efraim\\AppData\\Local\\Temp\\ipykernel_2688\\273650697.py:27: PerformanceWarning: DataFrame is highly fragmented.  This is usually the result of calling `frame.insert` many times, which has poor performance.  Consider joining all columns at once using pd.concat(axis=1) instead. To get a de-fragmented frame, use `newframe = frame.copy()`\n",
            "  X[ohe_feature_names] = self.encoder.transform(X[self.categorical_features])\n",
            "C:\\Users\\Efraim\\AppData\\Local\\Temp\\ipykernel_2688\\273650697.py:27: PerformanceWarning: DataFrame is highly fragmented.  This is usually the result of calling `frame.insert` many times, which has poor performance.  Consider joining all columns at once using pd.concat(axis=1) instead. To get a de-fragmented frame, use `newframe = frame.copy()`\n",
            "  X[ohe_feature_names] = self.encoder.transform(X[self.categorical_features])\n",
            "C:\\Users\\Efraim\\AppData\\Local\\Temp\\ipykernel_2688\\273650697.py:27: PerformanceWarning: DataFrame is highly fragmented.  This is usually the result of calling `frame.insert` many times, which has poor performance.  Consider joining all columns at once using pd.concat(axis=1) instead. To get a de-fragmented frame, use `newframe = frame.copy()`\n",
            "  X[ohe_feature_names] = self.encoder.transform(X[self.categorical_features])\n",
            "C:\\Users\\Efraim\\AppData\\Local\\Temp\\ipykernel_2688\\273650697.py:27: PerformanceWarning: DataFrame is highly fragmented.  This is usually the result of calling `frame.insert` many times, which has poor performance.  Consider joining all columns at once using pd.concat(axis=1) instead. To get a de-fragmented frame, use `newframe = frame.copy()`\n",
            "  X[ohe_feature_names] = self.encoder.transform(X[self.categorical_features])\n",
            "C:\\Users\\Efraim\\AppData\\Local\\Temp\\ipykernel_2688\\273650697.py:27: PerformanceWarning: DataFrame is highly fragmented.  This is usually the result of calling `frame.insert` many times, which has poor performance.  Consider joining all columns at once using pd.concat(axis=1) instead. To get a de-fragmented frame, use `newframe = frame.copy()`\n",
            "  X[ohe_feature_names] = self.encoder.transform(X[self.categorical_features])\n",
            "C:\\Users\\Efraim\\AppData\\Local\\Temp\\ipykernel_2688\\273650697.py:27: PerformanceWarning: DataFrame is highly fragmented.  This is usually the result of calling `frame.insert` many times, which has poor performance.  Consider joining all columns at once using pd.concat(axis=1) instead. To get a de-fragmented frame, use `newframe = frame.copy()`\n",
            "  X[ohe_feature_names] = self.encoder.transform(X[self.categorical_features])\n",
            "C:\\Users\\Efraim\\AppData\\Local\\Temp\\ipykernel_2688\\273650697.py:27: PerformanceWarning: DataFrame is highly fragmented.  This is usually the result of calling `frame.insert` many times, which has poor performance.  Consider joining all columns at once using pd.concat(axis=1) instead. To get a de-fragmented frame, use `newframe = frame.copy()`\n",
            "  X[ohe_feature_names] = self.encoder.transform(X[self.categorical_features])\n",
            "C:\\Users\\Efraim\\AppData\\Local\\Temp\\ipykernel_2688\\273650697.py:27: PerformanceWarning: DataFrame is highly fragmented.  This is usually the result of calling `frame.insert` many times, which has poor performance.  Consider joining all columns at once using pd.concat(axis=1) instead. To get a de-fragmented frame, use `newframe = frame.copy()`\n",
            "  X[ohe_feature_names] = self.encoder.transform(X[self.categorical_features])\n",
            "C:\\Users\\Efraim\\AppData\\Local\\Temp\\ipykernel_2688\\273650697.py:27: PerformanceWarning: DataFrame is highly fragmented.  This is usually the result of calling `frame.insert` many times, which has poor performance.  Consider joining all columns at once using pd.concat(axis=1) instead. To get a de-fragmented frame, use `newframe = frame.copy()`\n",
            "  X[ohe_feature_names] = self.encoder.transform(X[self.categorical_features])\n",
            "C:\\Users\\Efraim\\AppData\\Local\\Temp\\ipykernel_2688\\273650697.py:27: PerformanceWarning: DataFrame is highly fragmented.  This is usually the result of calling `frame.insert` many times, which has poor performance.  Consider joining all columns at once using pd.concat(axis=1) instead. To get a de-fragmented frame, use `newframe = frame.copy()`\n",
            "  X[ohe_feature_names] = self.encoder.transform(X[self.categorical_features])\n",
            "C:\\Users\\Efraim\\AppData\\Local\\Temp\\ipykernel_2688\\273650697.py:27: PerformanceWarning: DataFrame is highly fragmented.  This is usually the result of calling `frame.insert` many times, which has poor performance.  Consider joining all columns at once using pd.concat(axis=1) instead. To get a de-fragmented frame, use `newframe = frame.copy()`\n",
            "  X[ohe_feature_names] = self.encoder.transform(X[self.categorical_features])\n",
            "C:\\Users\\Efraim\\AppData\\Local\\Temp\\ipykernel_2688\\273650697.py:27: PerformanceWarning: DataFrame is highly fragmented.  This is usually the result of calling `frame.insert` many times, which has poor performance.  Consider joining all columns at once using pd.concat(axis=1) instead. To get a de-fragmented frame, use `newframe = frame.copy()`\n",
            "  X[ohe_feature_names] = self.encoder.transform(X[self.categorical_features])\n",
            "C:\\Users\\Efraim\\AppData\\Local\\Temp\\ipykernel_2688\\273650697.py:27: PerformanceWarning: DataFrame is highly fragmented.  This is usually the result of calling `frame.insert` many times, which has poor performance.  Consider joining all columns at once using pd.concat(axis=1) instead. To get a de-fragmented frame, use `newframe = frame.copy()`\n",
            "  X[ohe_feature_names] = self.encoder.transform(X[self.categorical_features])\n",
            "C:\\Users\\Efraim\\AppData\\Local\\Temp\\ipykernel_2688\\273650697.py:47: PerformanceWarning: DataFrame is highly fragmented.  This is usually the result of calling `frame.insert` many times, which has poor performance.  Consider joining all columns at once using pd.concat(axis=1) instead. To get a de-fragmented frame, use `newframe = frame.copy()`\n",
            "  X[ohe_feature_names] = self.encoder.transform(X[self.categorical_features])\n",
            "C:\\Users\\Efraim\\AppData\\Local\\Temp\\ipykernel_2688\\273650697.py:47: PerformanceWarning: DataFrame is highly fragmented.  This is usually the result of calling `frame.insert` many times, which has poor performance.  Consider joining all columns at once using pd.concat(axis=1) instead. To get a de-fragmented frame, use `newframe = frame.copy()`\n",
            "  X[ohe_feature_names] = self.encoder.transform(X[self.categorical_features])\n",
            "C:\\Users\\Efraim\\AppData\\Local\\Temp\\ipykernel_2688\\273650697.py:47: PerformanceWarning: DataFrame is highly fragmented.  This is usually the result of calling `frame.insert` many times, which has poor performance.  Consider joining all columns at once using pd.concat(axis=1) instead. To get a de-fragmented frame, use `newframe = frame.copy()`\n",
            "  X[ohe_feature_names] = self.encoder.transform(X[self.categorical_features])\n",
            "C:\\Users\\Efraim\\AppData\\Local\\Temp\\ipykernel_2688\\273650697.py:47: PerformanceWarning: DataFrame is highly fragmented.  This is usually the result of calling `frame.insert` many times, which has poor performance.  Consider joining all columns at once using pd.concat(axis=1) instead. To get a de-fragmented frame, use `newframe = frame.copy()`\n",
            "  X[ohe_feature_names] = self.encoder.transform(X[self.categorical_features])\n",
            "C:\\Users\\Efraim\\AppData\\Local\\Temp\\ipykernel_2688\\273650697.py:47: PerformanceWarning: DataFrame is highly fragmented.  This is usually the result of calling `frame.insert` many times, which has poor performance.  Consider joining all columns at once using pd.concat(axis=1) instead. To get a de-fragmented frame, use `newframe = frame.copy()`\n",
            "  X[ohe_feature_names] = self.encoder.transform(X[self.categorical_features])\n",
            "C:\\Users\\Efraim\\AppData\\Local\\Temp\\ipykernel_2688\\273650697.py:47: PerformanceWarning: DataFrame is highly fragmented.  This is usually the result of calling `frame.insert` many times, which has poor performance.  Consider joining all columns at once using pd.concat(axis=1) instead. To get a de-fragmented frame, use `newframe = frame.copy()`\n",
            "  X[ohe_feature_names] = self.encoder.transform(X[self.categorical_features])\n",
            "C:\\Users\\Efraim\\AppData\\Local\\Temp\\ipykernel_2688\\273650697.py:47: PerformanceWarning: DataFrame is highly fragmented.  This is usually the result of calling `frame.insert` many times, which has poor performance.  Consider joining all columns at once using pd.concat(axis=1) instead. To get a de-fragmented frame, use `newframe = frame.copy()`\n",
            "  X[ohe_feature_names] = self.encoder.transform(X[self.categorical_features])\n",
            "C:\\Users\\Efraim\\AppData\\Local\\Temp\\ipykernel_2688\\273650697.py:47: PerformanceWarning: DataFrame is highly fragmented.  This is usually the result of calling `frame.insert` many times, which has poor performance.  Consider joining all columns at once using pd.concat(axis=1) instead. To get a de-fragmented frame, use `newframe = frame.copy()`\n",
            "  X[ohe_feature_names] = self.encoder.transform(X[self.categorical_features])\n",
            "C:\\Users\\Efraim\\AppData\\Local\\Temp\\ipykernel_2688\\273650697.py:47: PerformanceWarning: DataFrame is highly fragmented.  This is usually the result of calling `frame.insert` many times, which has poor performance.  Consider joining all columns at once using pd.concat(axis=1) instead. To get a de-fragmented frame, use `newframe = frame.copy()`\n",
            "  X[ohe_feature_names] = self.encoder.transform(X[self.categorical_features])\n",
            "C:\\Users\\Efraim\\AppData\\Local\\Temp\\ipykernel_2688\\273650697.py:47: PerformanceWarning: DataFrame is highly fragmented.  This is usually the result of calling `frame.insert` many times, which has poor performance.  Consider joining all columns at once using pd.concat(axis=1) instead. To get a de-fragmented frame, use `newframe = frame.copy()`\n",
            "  X[ohe_feature_names] = self.encoder.transform(X[self.categorical_features])\n",
            "C:\\Users\\Efraim\\AppData\\Local\\Temp\\ipykernel_2688\\273650697.py:47: PerformanceWarning: DataFrame is highly fragmented.  This is usually the result of calling `frame.insert` many times, which has poor performance.  Consider joining all columns at once using pd.concat(axis=1) instead. To get a de-fragmented frame, use `newframe = frame.copy()`\n",
            "  X[ohe_feature_names] = self.encoder.transform(X[self.categorical_features])\n",
            "C:\\Users\\Efraim\\AppData\\Local\\Temp\\ipykernel_2688\\273650697.py:47: PerformanceWarning: DataFrame is highly fragmented.  This is usually the result of calling `frame.insert` many times, which has poor performance.  Consider joining all columns at once using pd.concat(axis=1) instead. To get a de-fragmented frame, use `newframe = frame.copy()`\n",
            "  X[ohe_feature_names] = self.encoder.transform(X[self.categorical_features])\n",
            "C:\\Users\\Efraim\\AppData\\Local\\Temp\\ipykernel_2688\\273650697.py:47: PerformanceWarning: DataFrame is highly fragmented.  This is usually the result of calling `frame.insert` many times, which has poor performance.  Consider joining all columns at once using pd.concat(axis=1) instead. To get a de-fragmented frame, use `newframe = frame.copy()`\n",
            "  X[ohe_feature_names] = self.encoder.transform(X[self.categorical_features])\n",
            "C:\\Users\\Efraim\\AppData\\Local\\Temp\\ipykernel_2688\\273650697.py:47: PerformanceWarning: DataFrame is highly fragmented.  This is usually the result of calling `frame.insert` many times, which has poor performance.  Consider joining all columns at once using pd.concat(axis=1) instead. To get a de-fragmented frame, use `newframe = frame.copy()`\n",
            "  X[ohe_feature_names] = self.encoder.transform(X[self.categorical_features])\n",
            "C:\\Users\\Efraim\\AppData\\Local\\Temp\\ipykernel_2688\\273650697.py:47: PerformanceWarning: DataFrame is highly fragmented.  This is usually the result of calling `frame.insert` many times, which has poor performance.  Consider joining all columns at once using pd.concat(axis=1) instead. To get a de-fragmented frame, use `newframe = frame.copy()`\n",
            "  X[ohe_feature_names] = self.encoder.transform(X[self.categorical_features])\n",
            "C:\\Users\\Efraim\\AppData\\Local\\Temp\\ipykernel_2688\\273650697.py:47: PerformanceWarning: DataFrame is highly fragmented.  This is usually the result of calling `frame.insert` many times, which has poor performance.  Consider joining all columns at once using pd.concat(axis=1) instead. To get a de-fragmented frame, use `newframe = frame.copy()`\n",
            "  X[ohe_feature_names] = self.encoder.transform(X[self.categorical_features])\n",
            "C:\\Users\\Efraim\\AppData\\Local\\Temp\\ipykernel_2688\\273650697.py:47: PerformanceWarning: DataFrame is highly fragmented.  This is usually the result of calling `frame.insert` many times, which has poor performance.  Consider joining all columns at once using pd.concat(axis=1) instead. To get a de-fragmented frame, use `newframe = frame.copy()`\n",
            "  X[ohe_feature_names] = self.encoder.transform(X[self.categorical_features])\n",
            "C:\\Users\\Efraim\\AppData\\Local\\Temp\\ipykernel_2688\\273650697.py:47: PerformanceWarning: DataFrame is highly fragmented.  This is usually the result of calling `frame.insert` many times, which has poor performance.  Consider joining all columns at once using pd.concat(axis=1) instead. To get a de-fragmented frame, use `newframe = frame.copy()`\n",
            "  X[ohe_feature_names] = self.encoder.transform(X[self.categorical_features])\n",
            "C:\\Users\\Efraim\\AppData\\Local\\Temp\\ipykernel_2688\\273650697.py:47: PerformanceWarning: DataFrame is highly fragmented.  This is usually the result of calling `frame.insert` many times, which has poor performance.  Consider joining all columns at once using pd.concat(axis=1) instead. To get a de-fragmented frame, use `newframe = frame.copy()`\n",
            "  X[ohe_feature_names] = self.encoder.transform(X[self.categorical_features])\n",
            "C:\\Users\\Efraim\\AppData\\Local\\Temp\\ipykernel_2688\\273650697.py:47: PerformanceWarning: DataFrame is highly fragmented.  This is usually the result of calling `frame.insert` many times, which has poor performance.  Consider joining all columns at once using pd.concat(axis=1) instead. To get a de-fragmented frame, use `newframe = frame.copy()`\n",
            "  X[ohe_feature_names] = self.encoder.transform(X[self.categorical_features])\n",
            "C:\\Users\\Efraim\\AppData\\Local\\Temp\\ipykernel_2688\\273650697.py:47: PerformanceWarning: DataFrame is highly fragmented.  This is usually the result of calling `frame.insert` many times, which has poor performance.  Consider joining all columns at once using pd.concat(axis=1) instead. To get a de-fragmented frame, use `newframe = frame.copy()`\n",
            "  X[ohe_feature_names] = self.encoder.transform(X[self.categorical_features])\n",
            "C:\\Users\\Efraim\\AppData\\Local\\Temp\\ipykernel_2688\\273650697.py:47: PerformanceWarning: DataFrame is highly fragmented.  This is usually the result of calling `frame.insert` many times, which has poor performance.  Consider joining all columns at once using pd.concat(axis=1) instead. To get a de-fragmented frame, use `newframe = frame.copy()`\n",
            "  X[ohe_feature_names] = self.encoder.transform(X[self.categorical_features])\n"
          ]
        }
      ],
      "source": [
        "# Your code to split the data\n",
        "X, y = compas_data.drop(columns=['two_year_recid']), compas_data['two_year_recid']\n",
        "X_train, X_test, y_train, y_test = train_test_split(X, y, test_size=0.2, random_state=SEED)\n",
        "\n",
        "processor = FeaturePreprocessor(categorical_features, date_time_features, non_train_features)\n",
        "X_train = processor.fit_transform(X_train, X[categorical_features])\n",
        "X_test = processor.transform(X_test)\n"
      ]
    },
    {
      "cell_type": "markdown",
      "metadata": {
        "id": "Kmq45GgAWEJo"
      },
      "source": [
        "### **5. Classifiers**\n",
        "\n",
        "Now, train and test different classifiers and report the following statistics:\n",
        "\n",
        "* Overall precision, recall, F1 and accuracy;\n",
        "* The statistical parity difference for the protected attribute (difference between the probability of a favorable label);\n",
        "* The true positive rates and the false positive rates of the two protected attribute groups.\n",
        "\n",
        "For training the classifier we recommend using scikit-learn (https://scikit-learn.org/stable/)."
      ]
    },
    {
      "cell_type": "markdown",
      "metadata": {
        "id": "Zu6eQ_3xGfXd"
      },
      "source": [
        "#### **5.1 Regular classification**\n",
        "Train a logistic regression classifier with the race feature and all other features that you are interested in."
      ]
    },
    {
      "cell_type": "code",
      "execution_count": 90,
      "metadata": {
        "id": "xDaGo07EWElK"
      },
      "outputs": [
        {
          "name": "stderr",
          "output_type": "stream",
          "text": [
            "d:\\Programms\\Anaconda\\envs\\MEGDNN\\Lib\\site-packages\\sklearn\\linear_model\\_logistic.py:460: ConvergenceWarning: lbfgs failed to converge (status=1):\n",
            "STOP: TOTAL NO. of ITERATIONS REACHED LIMIT.\n",
            "\n",
            "Increase the number of iterations (max_iter) or scale the data as shown in:\n",
            "    https://scikit-learn.org/stable/modules/preprocessing.html\n",
            "Please also refer to the documentation for alternative solver options:\n",
            "    https://scikit-learn.org/stable/modules/linear_model.html#logistic-regression\n",
            "  n_iter_i = _check_optimize_result(\n"
          ]
        },
        {
          "data": {
            "text/plain": [
              "{'accuracy': 0.9811,\n",
              " 'precision': 0.976,\n",
              " 'recall': 0.9839,\n",
              " 'f1': 0.9799,\n",
              " 'disparate_impact': 0.8213,\n",
              " 'demographic_parity': 0,\n",
              " 'African-American_true_positive_rate': 0.981,\n",
              " 'Caucasian_true_positive_rate': 0.9755,\n",
              " 'equal_opportunity': 0,\n",
              " 'African-American_false_positive_rate': 0.0095,\n",
              " 'Caucasian_false_positive_rate': 0.0204,\n",
              " 'predictive_parity': 1}"
            ]
          },
          "execution_count": 90,
          "metadata": {},
          "output_type": "execute_result"
        }
      ],
      "source": [
        "# Your code for classifier 1\n",
        "logreg_base = LogisticRegression(random_state=SEED)\n",
        "logreg_base.fit(X_train, y_train)\n",
        "y_pred_base = logreg_base.predict(X_test)\n",
        "test_res_df_base = X_test.copy()\n",
        "test_res_df_base['race'] = 'African-American'\n",
        "test_res_df_base.loc[test_res_df_base['race_Caucasian'] == 1, 'race'] = 'Caucasian'\n",
        "test_res_df_base['two_year_recid'] = y_test\n",
        "\n",
        "test_res_df_base['prediction'] = y_pred_base\n",
        "metrics(test_res_df_base)"
      ]
    },
    {
      "cell_type": "markdown",
      "metadata": {
        "id": "iM23AP8nFisw"
      },
      "source": [
        "#### **5.2 Without the protected attribute**\n",
        "Train a logistic regression classifier without the race feature, but with all other features you used in 5.1.\n"
      ]
    },
    {
      "cell_type": "code",
      "execution_count": 91,
      "metadata": {
        "id": "WL7LSSMPFmhv"
      },
      "outputs": [
        {
          "name": "stderr",
          "output_type": "stream",
          "text": [
            "d:\\Programms\\Anaconda\\envs\\MEGDNN\\Lib\\site-packages\\sklearn\\linear_model\\_logistic.py:460: ConvergenceWarning: lbfgs failed to converge (status=1):\n",
            "STOP: TOTAL NO. of ITERATIONS REACHED LIMIT.\n",
            "\n",
            "Increase the number of iterations (max_iter) or scale the data as shown in:\n",
            "    https://scikit-learn.org/stable/modules/preprocessing.html\n",
            "Please also refer to the documentation for alternative solver options:\n",
            "    https://scikit-learn.org/stable/modules/linear_model.html#logistic-regression\n",
            "  n_iter_i = _check_optimize_result(\n"
          ]
        },
        {
          "data": {
            "text/plain": [
              "{'accuracy': 0.982,\n",
              " 'precision': 0.976,\n",
              " 'recall': 0.9859,\n",
              " 'f1': 0.9809,\n",
              " 'disparate_impact': 0.8187,\n",
              " 'demographic_parity': 0,\n",
              " 'African-American_true_positive_rate': 0.981,\n",
              " 'Caucasian_true_positive_rate': 0.9755,\n",
              " 'equal_opportunity': 0,\n",
              " 'African-American_false_positive_rate': 0.0063,\n",
              " 'Caucasian_false_positive_rate': 0.0204,\n",
              " 'predictive_parity': 1}"
            ]
          },
          "execution_count": 91,
          "metadata": {},
          "output_type": "execute_result"
        }
      ],
      "source": [
        "# Your code for classifier 2\n",
        "X_train_protected = X_train.drop(['race_African-American', 'race_Caucasian'], axis=1)\n",
        "X_test_protected = X_test.drop(['race_African-American', 'race_Caucasian'], axis=1)\n",
        "\n",
        "logreg = LogisticRegression(random_state=SEED)\n",
        "logreg.fit(X_train_protected, y_train)\n",
        "y_pred = logreg.predict(X_test_protected)\n",
        "test_res_df = test_res_df_base.copy()\n",
        "\n",
        "test_res_df['prediction'] = y_pred\n",
        "metrics(test_res_df)"
      ]
    },
    {
      "cell_type": "markdown",
      "metadata": {
        "id": "KwiX0vEXFlgU"
      },
      "source": [
        "#### **5.3 Pre-processing: Reweighing**\n",
        "Train a classifier with weights (see lecture slides the weight calculation)\n",
        "* Report the weights that are used for reweighing and a short interpretation/discussion.\n",
        "* Hint: Think about when you should reweight the data: during initialization or during training (i.e. fit)? Read the documentation of the Logistic regression model in Scikit-learn carefully (if you use it)."
      ]
    },
    {
      "cell_type": "code",
      "execution_count": 92,
      "metadata": {
        "id": "G-1Vw1_xk4aQ"
      },
      "outputs": [],
      "source": [
        "# Your code for classifier 3\n",
        "data = X_train.copy()\n",
        "data['outcome'] = y_train\n",
        "\n",
        "# Calculate the necessary proportions\n",
        "# Proportions of positive outcomes\n",
        "P_AA_pos = (data['race_African-American'] == 1) & (data['outcome'] == 0)\n",
        "P_C_pos = (data['race_Caucasian'] == 1) & (data['outcome'] == 0)\n",
        "\n",
        "# Proportions of negative outcomes\n",
        "P_AA_neg = (data['race_African-American'] == 1) & (data['outcome'] == 1)\n",
        "P_C_neg = (data['race_Caucasian'] == 1) & (data['outcome'] == 1)\n",
        "\n",
        "# Convert booleans to integers and calculate the proportion\n",
        "p1_pos = P_AA_pos.sum() / (data['race_African-American'] == 1).sum()\n",
        "p2_pos = P_C_pos.sum() / (data['race_Caucasian'] == 1).sum()\n",
        "p1_neg = P_AA_neg.sum() / (data['race_African-American'] == 1).sum()\n",
        "p2_neg = P_C_neg.sum() / (data['race_Caucasian'] == 1).sum()\n",
        "\n",
        "# Desired balance for each outcome across all groups\n",
        "total_pos = data['outcome'].value_counts(normalize=True)[0]  # total proportion of positive outcomes\n",
        "total_neg = data['outcome'].value_counts(normalize=True)[1]  # total proportion of negative outcomes\n",
        "\n",
        "# Calculate weights\n",
        "data['weight'] = np.where(data['race_African-American'] == 1,\n",
        "                          np.where(data['outcome'] == 0, (total_pos / p1_pos), (total_neg / p1_neg)),\n",
        "                          np.where(data['outcome'] == 0, (total_pos / p2_pos), (total_neg / p2_neg)))"
      ]
    },
    {
      "cell_type": "code",
      "execution_count": 93,
      "metadata": {},
      "outputs": [
        {
          "name": "stderr",
          "output_type": "stream",
          "text": [
            "d:\\Programms\\Anaconda\\envs\\MEGDNN\\Lib\\site-packages\\sklearn\\linear_model\\_logistic.py:460: ConvergenceWarning: lbfgs failed to converge (status=1):\n",
            "STOP: TOTAL NO. of ITERATIONS REACHED LIMIT.\n",
            "\n",
            "Increase the number of iterations (max_iter) or scale the data as shown in:\n",
            "    https://scikit-learn.org/stable/modules/preprocessing.html\n",
            "Please also refer to the documentation for alternative solver options:\n",
            "    https://scikit-learn.org/stable/modules/linear_model.html#logistic-regression\n",
            "  n_iter_i = _check_optimize_result(\n"
          ]
        },
        {
          "data": {
            "text/html": [
              "<style>#sk-container-id-3 {color: black;}#sk-container-id-3 pre{padding: 0;}#sk-container-id-3 div.sk-toggleable {background-color: white;}#sk-container-id-3 label.sk-toggleable__label {cursor: pointer;display: block;width: 100%;margin-bottom: 0;padding: 0.3em;box-sizing: border-box;text-align: center;}#sk-container-id-3 label.sk-toggleable__label-arrow:before {content: \"▸\";float: left;margin-right: 0.25em;color: #696969;}#sk-container-id-3 label.sk-toggleable__label-arrow:hover:before {color: black;}#sk-container-id-3 div.sk-estimator:hover label.sk-toggleable__label-arrow:before {color: black;}#sk-container-id-3 div.sk-toggleable__content {max-height: 0;max-width: 0;overflow: hidden;text-align: left;background-color: #f0f8ff;}#sk-container-id-3 div.sk-toggleable__content pre {margin: 0.2em;color: black;border-radius: 0.25em;background-color: #f0f8ff;}#sk-container-id-3 input.sk-toggleable__control:checked~div.sk-toggleable__content {max-height: 200px;max-width: 100%;overflow: auto;}#sk-container-id-3 input.sk-toggleable__control:checked~label.sk-toggleable__label-arrow:before {content: \"▾\";}#sk-container-id-3 div.sk-estimator input.sk-toggleable__control:checked~label.sk-toggleable__label {background-color: #d4ebff;}#sk-container-id-3 div.sk-label input.sk-toggleable__control:checked~label.sk-toggleable__label {background-color: #d4ebff;}#sk-container-id-3 input.sk-hidden--visually {border: 0;clip: rect(1px 1px 1px 1px);clip: rect(1px, 1px, 1px, 1px);height: 1px;margin: -1px;overflow: hidden;padding: 0;position: absolute;width: 1px;}#sk-container-id-3 div.sk-estimator {font-family: monospace;background-color: #f0f8ff;border: 1px dotted black;border-radius: 0.25em;box-sizing: border-box;margin-bottom: 0.5em;}#sk-container-id-3 div.sk-estimator:hover {background-color: #d4ebff;}#sk-container-id-3 div.sk-parallel-item::after {content: \"\";width: 100%;border-bottom: 1px solid gray;flex-grow: 1;}#sk-container-id-3 div.sk-label:hover label.sk-toggleable__label {background-color: #d4ebff;}#sk-container-id-3 div.sk-serial::before {content: \"\";position: absolute;border-left: 1px solid gray;box-sizing: border-box;top: 0;bottom: 0;left: 50%;z-index: 0;}#sk-container-id-3 div.sk-serial {display: flex;flex-direction: column;align-items: center;background-color: white;padding-right: 0.2em;padding-left: 0.2em;position: relative;}#sk-container-id-3 div.sk-item {position: relative;z-index: 1;}#sk-container-id-3 div.sk-parallel {display: flex;align-items: stretch;justify-content: center;background-color: white;position: relative;}#sk-container-id-3 div.sk-item::before, #sk-container-id-3 div.sk-parallel-item::before {content: \"\";position: absolute;border-left: 1px solid gray;box-sizing: border-box;top: 0;bottom: 0;left: 50%;z-index: -1;}#sk-container-id-3 div.sk-parallel-item {display: flex;flex-direction: column;z-index: 1;position: relative;background-color: white;}#sk-container-id-3 div.sk-parallel-item:first-child::after {align-self: flex-end;width: 50%;}#sk-container-id-3 div.sk-parallel-item:last-child::after {align-self: flex-start;width: 50%;}#sk-container-id-3 div.sk-parallel-item:only-child::after {width: 0;}#sk-container-id-3 div.sk-dashed-wrapped {border: 1px dashed gray;margin: 0 0.4em 0.5em 0.4em;box-sizing: border-box;padding-bottom: 0.4em;background-color: white;}#sk-container-id-3 div.sk-label label {font-family: monospace;font-weight: bold;display: inline-block;line-height: 1.2em;}#sk-container-id-3 div.sk-label-container {text-align: center;}#sk-container-id-3 div.sk-container {/* jupyter's `normalize.less` sets `[hidden] { display: none; }` but bootstrap.min.css set `[hidden] { display: none !important; }` so we also need the `!important` here to be able to override the default hidden behavior on the sphinx rendered scikit-learn.org. See: https://github.com/scikit-learn/scikit-learn/issues/21755 */display: inline-block !important;position: relative;}#sk-container-id-3 div.sk-text-repr-fallback {display: none;}</style><div id=\"sk-container-id-3\" class=\"sk-top-container\"><div class=\"sk-text-repr-fallback\"><pre>LogisticRegression()</pre><b>In a Jupyter environment, please rerun this cell to show the HTML representation or trust the notebook. <br />On GitHub, the HTML representation is unable to render, please try loading this page with nbviewer.org.</b></div><div class=\"sk-container\" hidden><div class=\"sk-item\"><div class=\"sk-estimator sk-toggleable\"><input class=\"sk-toggleable__control sk-hidden--visually\" id=\"sk-estimator-id-3\" type=\"checkbox\" checked><label for=\"sk-estimator-id-3\" class=\"sk-toggleable__label sk-toggleable__label-arrow\">LogisticRegression</label><div class=\"sk-toggleable__content\"><pre>LogisticRegression()</pre></div></div></div></div></div>"
            ],
            "text/plain": [
              "LogisticRegression()"
            ]
          },
          "execution_count": 93,
          "metadata": {},
          "output_type": "execute_result"
        }
      ],
      "source": [
        "logreg = LogisticRegression()\n",
        "logreg.fit(X_train_protected, y_train, sample_weight=data['weight'])"
      ]
    },
    {
      "cell_type": "code",
      "execution_count": 94,
      "metadata": {},
      "outputs": [
        {
          "data": {
            "text/plain": [
              "{'accuracy': 0.9801,\n",
              " 'precision': 0.976,\n",
              " 'recall': 0.9819,\n",
              " 'f1': 0.9789,\n",
              " 'disparate_impact': 0.8239,\n",
              " 'demographic_parity': 0,\n",
              " 'African-American_true_positive_rate': 0.981,\n",
              " 'Caucasian_true_positive_rate': 0.9755,\n",
              " 'equal_opportunity': 0,\n",
              " 'African-American_false_positive_rate': 0.0127,\n",
              " 'Caucasian_false_positive_rate': 0.0204,\n",
              " 'predictive_parity': 1}"
            ]
          },
          "execution_count": 94,
          "metadata": {},
          "output_type": "execute_result"
        }
      ],
      "source": [
        "y_pred = logreg.predict(X_test_protected)\n",
        "\n",
        "test_res_df['prediction'] = y_pred\n",
        "metrics(test_res_df)"
      ]
    },
    {
      "cell_type": "markdown",
      "metadata": {
        "id": "C3XdW0qF82JC"
      },
      "source": [
        "#### **5.4 Post-processing: Equalized odds**\n",
        "Use the predictions by the first classifier for this post processing part (see lecture slides for more information about post processing for equalized odds).\n",
        "\n",
        "Normally, the best parameters `p_00, p_01, p_10, p_11` are found with a linear program that minimizes loss between predictions of a derived predictor and the actual labels. In this assignment we will not ask you to do this. Instead, we would like you to follow the next steps to find parameters, post-process the data and check the performance of this classifier with post-processing:\n",
        "\n",
        "1. Generate a 1000 different samples of these 4 parameters randomly;\n",
        "2. Write a function (or more) that applies these 4 parameters to postprocess the predictions.\n",
        "3. For each generated set of 4 parameters:\n",
        "  - Change the predicted labels with the function(s) from step 2;\n",
        "  - Calculate the TPR ratio and FPR ratio over these 'new' predictions;\n",
        "4. Which set of parameters satisfies the equalized odds fairness measure the best?\n",
        "5. Check the overall performance (precision, recall, accuracy, etc.) of the new predictions after post-processing and add an interpretation of the results and the parameters in your **report**."
      ]
    },
    {
      "cell_type": "code",
      "execution_count": 95,
      "metadata": {
        "id": "Nk_scQdM76He"
      },
      "outputs": [
        {
          "name": "stdout",
          "output_type": "stream",
          "text": [
            "[[0.64414922 0.04818601]\n",
            " [0.36005047 0.95679982]]\n"
          ]
        }
      ],
      "source": [
        "# Step 1: Generate Random Parameter Samples\n",
        "NUM_GROUPS = 2\n",
        "NUM_PREDS = 2\n",
        "NUM_SAMPLES = 1000\n",
        "\n",
        "#Create random 3D array\n",
        "randParameters = np.random.rand(NUM_SAMPLES,NUM_GROUPS, NUM_PREDS)\n",
        "print(randParameters[1])"
      ]
    },
    {
      "cell_type": "code",
      "execution_count": 96,
      "metadata": {
        "id": "W0p92txObr6v"
      },
      "outputs": [
        {
          "name": "stdout",
          "output_type": "stream",
          "text": [
            "                  race  prediction  derived_prediction  two_year_recid\n",
            "14           Caucasian           1                   1               1\n",
            "5787  African-American           1                   0               0\n",
            "765   African-American           0                   1               0\n",
            "2465         Caucasian           1                   1               1\n",
            "5362  African-American           1                   1               1\n",
            "...                ...         ...                 ...             ...\n",
            "1609  African-American           0                   0               0\n",
            "1816         Caucasian           0                   1               0\n",
            "5270         Caucasian           0                   0               0\n",
            "454   African-American           0                   1               1\n",
            "395          Caucasian           0                   1               0\n",
            "\n",
            "[1056 rows x 4 columns]\n"
          ]
        }
      ],
      "source": [
        "# Step 2: Apply parameters to post-process: Randomly change predictions based on group and predicted values from the classifier\n",
        "\n",
        "\n",
        "class DerivedClassifier:\n",
        "    def __init__(self,params):\n",
        "        self.params = params #[0.4,0.5,0.6,0.7]\n",
        "    def predict(self,prediction,group):\n",
        "       #set output randomly according to params\n",
        "        p = self.params[prediction,group]\n",
        "        if(np.random.random()<p):\n",
        "            return 0\n",
        "        else:\n",
        "            return 1        \n",
        "    def evaluate(self,df):\n",
        "        lis = []\n",
        "        for index, row in df.iterrows():\n",
        "            group = 0 if row['race']==\"Caucasian\" else 1\n",
        "            lis.append(self.predict(row['prediction'],group))\n",
        "        df['derived_prediction']=lis\n",
        "        return df\n",
        "\n",
        "\n",
        "#Testing the derived Classifier\n",
        "test_res_df_der = test_res_df_base.copy()\n",
        "#print(test_res_df_der)\n",
        "classif = DerivedClassifier(randParameters[0])\n",
        "#print(test_res_df_der)\n",
        "test_res_df_der = classif.evaluate(test_res_df_der)\n",
        "\n",
        "print(test_res_df_der[[\"race\",\"prediction\",\"derived_prediction\",\"two_year_recid\"]])"
      ]
    },
    {
      "cell_type": "code",
      "execution_count": 101,
      "metadata": {},
      "outputs": [
        {
          "name": "stdout",
          "output_type": "stream",
          "text": [
            "[[0.19201608 0.14602102]\n",
            " [0.93806414 0.91764728]]\n",
            "{'accuracy': 0.1402, 'precision': 0.0929, 'recall': 0.0948, 'f1': 0.0938, 'disparate_impact': 1.0726, 'demographic_parity': 0, 'African-American_true_positive_rate': 0.146, 'Caucasian_true_positive_rate': 0.2245, 'equal_opportunity': 1, 'African-American_false_positive_rate': 0.946, 'Caucasian_false_positive_rate': 0.6163, 'predictive_parity': 0}\n"
          ]
        }
      ],
      "source": [
        "#Step 3: For each of the 1000 random parameters, calculate TPR and FPR, minimize the difference between group TPRS for best equalized odds \n",
        "mindif = 1\n",
        "minParamDex = -1\n",
        "for i in range(0, len(randParameters)):\n",
        "    #Testing the derived Classifier\n",
        "    test_res_df_der = test_res_df_base.copy()\n",
        "    classif = DerivedClassifier(randParameters[0])\n",
        "    test_res_df_der = classif.evaluate(test_res_df_der)\n",
        "    performance = metrics(test_res_df_der, prediction_column=\"derived_prediction\")\n",
        "    curdifTPR = abs(performance['Caucasian_true_positive_rate']-performance['African-American_true_positive_rate'])\n",
        "    curdifFPR = abs(performance['Caucasian_false_positive_rate']-performance['African-American_false_positive_rate'])\n",
        "    curdif = curdifTPR+curdifFPR\n",
        "    if(curdif<mindif):\n",
        "        mindif=curdif\n",
        "        minParamDex = i\n",
        "\n",
        "#4 and 5\n",
        "#Testing the best results\n",
        "test_res_df_der = test_res_df_base.copy()\n",
        "#print(test_res_df_der)\n",
        "classif = DerivedClassifier(randParameters[minParamDex])\n",
        "#print(test_res_df_der)\n",
        "test_res_df_der = classif.evaluate(test_res_df_der)\n",
        "\n",
        "print(randParameters[minParamDex])\n",
        "print(metrics(test_res_df_der, prediction_column=\"derived_prediction\"))\n",
        "    \n",
        "   "
      ]
    },
    {
      "cell_type": "code",
      "execution_count": null,
      "metadata": {},
      "outputs": [],
      "source": []
    },
    {
      "cell_type": "markdown",
      "metadata": {},
      "source": [
        "Best Results: \n",
        "[[0.28060081 0.34993785]\n",
        " [0.78242581 0.99251462]]\n",
        "{'accuracy': 0.2244, 'precision': 0.1218, 'recall': 0.1048, 'f1': 0.1127, 'disparate_impact': 1.3677, 'demographic_parity': 0, 'African-American_true_positive_rate': 0.3397, 'Caucasian_true_positive_rate': 0.3184, 'equal_opportunity': 0, 'African-American_false_positive_rate': 1.019, 'Caucasian_false_positive_rate': 0.502, 'predictive_parity': 0}\n"
      ]
    },
    {
      "cell_type": "markdown",
      "metadata": {
        "id": "DD0weMlkN4Cq"
      },
      "source": [
        "#### **Results**\n",
        "For each classifier write in the **report**:\n",
        "- Whether this classifier satisfies statistical parity and whether this compares to the original dataset;\n",
        "- Does the classifier satisfy the equal opportunity criterion?\n",
        "- How do the different classifiers compare against each other?"
      ]
    },
    {
      "cell_type": "markdown",
      "metadata": {
        "id": "LUPZN32kOJ9H"
      },
      "source": [
        "### **6. Intersectional fairness**\n",
        "In the questions above `race` was the only protected attribute. However, multiple protected attributes sometimes interact, leading to different fairness outcomes for different combinations of these protected attributes.\n",
        "\n",
        "Please explore the intersectional fairness for protected attributes `race` and `sex` for the first two classifiers from question 5: instead of only reporting the statistical parity, TPR and FPR for the protected attribute race, make a combination of the `race` and `sex` column, with four categories of this combined protected attribute, and report the maximum difference between the subgroups for statistical parity, TPR and FPR. \n",
        "For example, suppose we have four groups with TPRs 0.1, 0.2, 0.8, then the maximum difference is 0.7.\n",
        "- For classifier 1: evaluate the predictions for this combined protected attribute;\n",
        "- For classifier 2: remove both `race` and `sex` from the data and check the results again.\n",
        "\n",
        "Write a short interpretation of these results in your **report**."
      ]
    },
    {
      "cell_type": "code",
      "execution_count": null,
      "metadata": {
        "id": "mSXG9sBjT-xX"
      },
      "outputs": [],
      "source": [
        "# Your code for intersectional fairness\n"
      ]
    },
    {
      "cell_type": "markdown",
      "metadata": {
        "id": "2lfFYnU1V_bl"
      },
      "source": [
        "## Discussion\n",
        "Include a short ethical discussion (1 or 2 paragraphs) in your **report** reflecting on these two aspects:\n",
        "\n",
        "1) The use of a ML system to try to predict recidivism;\n",
        "\n",
        "2) The public release of a dataset like this."
      ]
    }
  ],
  "metadata": {
    "colab": {
      "provenance": [],
      "toc_visible": true
    },
    "kernelspec": {
      "display_name": "Python 3",
      "name": "python3"
    },
    "language_info": {
      "codemirror_mode": {
        "name": "ipython",
        "version": 3
      },
      "file_extension": ".py",
      "mimetype": "text/x-python",
      "name": "python",
      "nbconvert_exporter": "python",
      "pygments_lexer": "ipython3",
      "version": "3.11.7"
    }
  },
  "nbformat": 4,
  "nbformat_minor": 0
}
